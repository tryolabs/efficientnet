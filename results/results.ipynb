{
 "cells": [
  {
   "cell_type": "code",
   "execution_count": 23,
   "metadata": {},
   "outputs": [],
   "source": [
    "import pandas as pd\n",
    "\n",
    "B0 = pd.read_csv('last_results_B0.csv', names=['B0'])\n",
    "B0_trt = pd.read_csv('last_results_B0_trt_FP16.csv', names=['B0_trt'])\n",
    "B3 = pd.read_csv('last_results_B3.csv', names=['B3'])\n",
    "B3_trt = pd.read_csv('last_results_B3_trt_FP16.csv', names=['B3_trt'])\n",
    "\n",
    "results = B0.join(B0_trt).join(B3).join(B3_trt)\n",
    "accuracy = results.iloc[-1]\n",
    "results = results.iloc[:-1].astype('float64')"
   ]
  },
  {
   "cell_type": "code",
   "execution_count": 25,
   "metadata": {},
   "outputs": [
    {
     "data": {
      "text/plain": [
       "B0        Accuracy: 63.63% \n",
       "B0_trt    Accuracy: 63.62% \n",
       "B3        Accuracy: 68.45% \n",
       "B3_trt    Accuracy: 68.44% \n",
       "Name: 9998, dtype: object"
      ]
     },
     "execution_count": 25,
     "metadata": {},
     "output_type": "execute_result"
    }
   ],
   "source": [
    "accuracy"
   ]
  },
  {
   "cell_type": "code",
   "execution_count": 33,
   "metadata": {},
   "outputs": [
    {
     "data": {
      "text/plain": [
       "B0        0.090665 s\n",
       "B0_trt    0.086058 s\n",
       "B3        0.193366 s\n",
       "B3_trt    0.195451 s\n",
       "dtype: object"
      ]
     },
     "execution_count": 33,
     "metadata": {},
     "output_type": "execute_result"
    }
   ],
   "source": [
    "results.mean().apply(lambda x: f\"{x:.6f} s\")"
   ]
  }
 ],
 "metadata": {
  "kernelspec": {
   "display_name": "Python 3",
   "language": "python",
   "name": "python3"
  },
  "language_info": {
   "codemirror_mode": {
    "name": "ipython",
    "version": 3
   },
   "file_extension": ".py",
   "mimetype": "text/x-python",
   "name": "python",
   "nbconvert_exporter": "python",
   "pygments_lexer": "ipython3",
   "version": "3.7.2"
  }
 },
 "nbformat": 4,
 "nbformat_minor": 2
}
